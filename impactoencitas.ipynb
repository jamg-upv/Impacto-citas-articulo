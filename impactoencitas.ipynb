{
  "nbformat": 4,
  "nbformat_minor": 0,
  "metadata": {
    "colab": {
      "name": "impactoencitas.ipynb",
      "provenance": [],
      "collapsed_sections": [],
      "authorship_tag": "ABX9TyPXYpjIV8Uu0FdGqCVx19OV",
      "include_colab_link": true
    },
    "kernelspec": {
      "name": "python3",
      "display_name": "Python 3"
    },
    "language_info": {
      "name": "python"
    }
  },
  "cells": [
    {
      "cell_type": "markdown",
      "metadata": {
        "id": "view-in-github",
        "colab_type": "text"
      },
      "source": [
        "<a href=\"https://colab.research.google.com/github/jamg-upv/Impacto-citas-articulo/blob/main/impactoencitas.ipynb\" target=\"_parent\"><img src=\"https://colab.research.google.com/assets/colab-badge.svg\" alt=\"Open In Colab\"/></a>"
      ]
    },
    {
      "cell_type": "markdown",
      "source": [
        "How to cite this work:\n",
        "\n",
        "------------\n",
        "\n",
        "Este codigo permite integrar una tabla con los datos de un conjunto de articulos y sus numeros de citas, normalizarlas teniendo en cuenta las tablas de citas mundiales (scopus) o baseline de (WOS), y añadir las métricas de impacto de la revista en el año de publicación del articulo.\n",
        "Son necesarias 3 tablas para cada proveedor (scopus y WOS)\n",
        "\n",
        "\n",
        "Fuente de datos SCOPUS https://elsevier.com/?a=734751\n"
      ],
      "metadata": {
        "id": "bH_q_zc__30t"
      }
    },
    {
      "cell_type": "markdown",
      "source": [
        "Tareas \n",
        "1. Lista de 25 DOIs Banco de Pruebas1  (meritos (5 autores \"al azar\") )\n",
        "2. Descargar como cvs bancopruebas1sco tabla Scopus  de 25 meritos (5 autores \"al azar\") a partir de los DOI\n",
        "1. Descargar como cvs bancopruebas1wos tabla WOS de los 25 meritos a partir de los DOI\n",
        "1. preparar un prototipo de la tabla que penamos crear para consultar a compañeros del equipo\n",
        "2.   \n",
        "\n"
      ],
      "metadata": {
        "id": "auFXwGUHLLu7"
      }
    },
    {
      "cell_type": "markdown",
      "source": [
        "Pasos previos. Librerias y configuración"
      ],
      "metadata": {
        "id": "HkX5w6WpSuT-"
      }
    },
    {
      "cell_type": "code",
      "execution_count": 2,
      "metadata": {
        "id": "Uy3qii5__RhJ",
        "colab": {
          "base_uri": "https://localhost:8080/",
          "height": 35
        },
        "outputId": "628d4911-216f-4b0f-9526-7755dd10f016"
      },
      "outputs": [
        {
          "output_type": "execute_result",
          "data": {
            "application/vnd.google.colaboratory.intrinsic+json": {
              "type": "string"
            },
            "text/plain": [
              "'%.2f'"
            ]
          },
          "metadata": {},
          "execution_count": 2
        }
      ],
      "source": [
        "# Importamos ls librería de Python que necesitaremos en este notebook\n",
        "\n",
        "import pandas as pd  # Pandas permite manipular tablas \n",
        "import matplotlib.pyplot as plt  # Para hacer gráficas\n",
        "import seaborn as sns  # Para hacer gráficas pero necesita matplotlib y deja unos graficos chulisismos \n",
        "sns.set_style('whitegrid')  # Pone una malla de fondo bastante mona para Seaborn\n",
        "\n",
        "import os #rename files\n",
        "#import xlwings as xw #permite leer docuemtnos xlb me da error y no lo puedo instalar\n",
        "\n",
        "# Redondeamos las salidas a dos decimales\n",
        "%precision %.2f\n",
        "\n",
        "# from google.colab import drive\n",
        "# drive.mount('/content/drive')\n",
        "\n"
      ]
    },
    {
      "cell_type": "markdown",
      "source": [
        "Carga de *datos* Indicadores de revistas SCOPUS"
      ],
      "metadata": {
        "id": "plqsYAbC_2PF"
      }
    },
    {
      "cell_type": "code",
      "source": [
        "#métricas de revistas Scopus\n",
        "# si lo descargamos directo de la web Ç(ventaja es que con una descarga siempre está accesible y no hay que volver a descargarlo durante la sesión)\n",
        "# el archivo de SCopus de 10 años ocupa demasiados GB (60gb) y no se puede alojar en drive (no debería esar en un acceso libre en github porque es propiedad de Scopus)\n",
        "   #!wget https://elsevier.com/?a=734751 \n",
        "#es XLB, hay que convertirlo a mano XLS porque xlb requiere de librerias que no tengo instaladas en colab\n",
        "# y hacerlo accesible aquí\n",
        "#la primer pesaña son definiciones de indicadores, la segunra el el año más reciente y luego 9 mas con los anteriores. La ultima pestaña es un clasificación de categorias\n",
        "## limpio a mano las pestañas no usadas (priemera y ultima) y dejo solo los 7 años más recientes (para que sean solo 44mb y me quepa en google drive)\n",
        "!wget #pendiente completar con una ruta HTTPS la carga del fichero (de momento lo hago manual, que tarda una eternidad cada vez)\n",
        "\n",
        "# en general funciona mejor con archivos csv, que con excel. tendre que partir el archivo excel en csv\n",
        "\n",
        "#renbombrar el fichero local descargado para que no sea tan feote\n",
        "#os.rename(r'/content/edit?usp=sharing',r'/content/scopus.xlsx')"
      ],
      "metadata": {
        "colab": {
          "base_uri": "https://localhost:8080/"
        },
        "id": "bP0vXthaTwq6",
        "outputId": "0340621b-a58c-4746-c449-18570fdb9ab4"
      },
      "execution_count": 11,
      "outputs": [
        {
          "output_type": "stream",
          "name": "stdout",
          "text": [
            "--2022-02-07 19:04:29--  https://docs.google.com/spreadsheets/d/1gY0gVLoYxCN522Z_6WpzggG3IVodJlMBxhE8J_b__mg/edit?usp=sharing\n",
            "Resolving docs.google.com (docs.google.com)... 142.250.103.100, 142.250.103.102, 142.250.103.139, ...\n",
            "Connecting to docs.google.com (docs.google.com)|142.250.103.100|:443... connected.\n",
            "HTTP request sent, awaiting response... 200 OK\n",
            "Length: unspecified [text/html]\n",
            "Saving to: ‘edit?usp=sharing’\n",
            "\n",
            "edit?usp=sharing        [ <=>                ] 331.04K  --.-KB/s    in 0.1s    \n",
            "\n",
            "2022-02-07 19:04:32 (2.53 MB/s) - ‘edit?usp=sharing’ saved [338984]\n",
            "\n"
          ]
        }
      ]
    },
    {
      "cell_type": "code",
      "source": [
        "# si sibo el fichero a mano a googlecolab (varios minutos en subir y 130seg en cargar el dataframe)\n",
        "\n",
        "dfs = pd.read_excel('/content/CiteScore-2014-2020-new-methodology-October-2021.xlsx',engine='openpyxl',sheet_name=None)\n",
        "dfs"
      ],
      "metadata": {
        "id": "2NuOtIxs4uiS"
      },
      "execution_count": 3,
      "outputs": []
    },
    {
      "cell_type": "code",
      "source": [
        "# Otra forma de hacer exactamente lo mismo de arriba (130 segundo)\n",
        "\n",
        "xl_file = pd.ExcelFile('/content/CiteScore-2014-2020-new-methodology-October-2021.xlsx')\n",
        "\n",
        "dfs2 = {sheet_name: xl_file.parse(sheet_name) \n",
        "          for sheet_name in xl_file.sheet_names}\n",
        "dfs2"
      ],
      "metadata": {
        "id": "zzWih-bfUSDf"
      },
      "execution_count": 5,
      "outputs": []
    },
    {
      "cell_type": "code",
      "source": [
        "##pendiente automtizar la creación de un CSV a partir de las pestañas, añadiendo una columna del año (y rotulando citescore solo sin años en las columnas de datos)"
      ],
      "metadata": {
        "id": "nARiej-d-wGP"
      },
      "execution_count": null,
      "outputs": []
    },
    {
      "cell_type": "markdown",
      "source": [
        "# Nueva sección"
      ],
      "metadata": {
        "id": "OezSjD1L3AOl"
      }
    }
  ]
}