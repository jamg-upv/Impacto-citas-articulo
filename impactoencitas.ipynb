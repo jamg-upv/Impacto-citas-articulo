{
  "nbformat": 4,
  "nbformat_minor": 0,
  "metadata": {
    "colab": {
      "name": "impactoencitas.ipynb",
      "provenance": [],
      "collapsed_sections": [],
      "authorship_tag": "ABX9TyPvyJ1Y8O8p74kX0j23RDpc",
      "include_colab_link": true
    },
    "kernelspec": {
      "name": "python3",
      "display_name": "Python 3"
    },
    "language_info": {
      "name": "python"
    }
  },
  "cells": [
    {
      "cell_type": "markdown",
      "metadata": {
        "id": "view-in-github",
        "colab_type": "text"
      },
      "source": [
        "<a href=\"https://colab.research.google.com/github/jamg-upv/Impacto-citas-articulo/blob/main/impactoencitas.ipynb\" target=\"_parent\"><img src=\"https://colab.research.google.com/assets/colab-badge.svg\" alt=\"Open In Colab\"/></a>"
      ]
    },
    {
      "cell_type": "markdown",
      "source": [
        "How to cite this work:\n",
        "\n",
        "\n",
        "\n",
        "------------\n",
        "Referencias: \n",
        "Documento compartidoen drive\n",
        "\n",
        "Miro: https://miro.com/app/board/uXjVOVj0st4=/?moveToWidget=3458764518530820364&cot=14\n",
        "\n",
        "Este codigo permite integrar una tabla con los datos de un conjunto de articulos y sus numeros de citas, normalizarlas teniendo en cuenta las tablas de citas mundiales (scopus) o baseline de (WOS), y añadir las métricas de impacto de la revista en el año de publicación del articulo.\n",
        "Son necesarias 3 tablas para cada proveedor (scopus y WOS)\n",
        "\n",
        "\n",
        "Fuente de datos SCOPUS https://elsevier.com/?a=734751\n"
      ],
      "metadata": {
        "id": "bH_q_zc__30t"
      }
    },
    {
      "cell_type": "markdown",
      "source": [
        "Tareas \n",
        "1. Lista de 25 DOIs Banco de Pruebas1  (meritos (5 autores \"al azar\") )\n",
        "2. Descargar como cvs bancopruebas1sco tabla Scopus  de 25 meritos (5 autores \"al azar\") a partir de los DOI\n",
        "1. Descargar como cvs bancopruebas1wos tabla WOS de los 25 meritos a partir de los DOI\n",
        "1. preparar un prototipo de la tabla que penamos crear para consultar a compañeros del equipo\n",
        "2.   \n",
        "\n"
      ],
      "metadata": {
        "id": "auFXwGUHLLu7"
      }
    },
    {
      "cell_type": "markdown",
      "source": [
        "Pasos previos. Librerias y configuración"
      ],
      "metadata": {
        "id": "HkX5w6WpSuT-"
      }
    },
    {
      "cell_type": "code",
      "execution_count": 1,
      "metadata": {
        "id": "Uy3qii5__RhJ",
        "colab": {
          "base_uri": "https://localhost:8080/",
          "height": 35
        },
        "outputId": "5e8854e6-158f-470c-9141-ac02d2204554"
      },
      "outputs": [
        {
          "output_type": "execute_result",
          "data": {
            "application/vnd.google.colaboratory.intrinsic+json": {
              "type": "string"
            },
            "text/plain": [
              "'%.2f'"
            ]
          },
          "metadata": {},
          "execution_count": 1
        }
      ],
      "source": [
        "# Importamos ls librería de Python que necesitaremos en este notebook\n",
        "\n",
        "import pandas as pd  # Pandas permite manipular tablas \n",
        "import matplotlib.pyplot as plt  # Para hacer gráficas\n",
        "import seaborn as sns  # Para hacer gráficas pero necesita matplotlib y deja unos graficos chulisismos \n",
        "sns.set_style('whitegrid')  # Pone una malla de fondo bastante mona para Seaborn\n",
        "import numpy as np\n",
        "\n",
        "import os #rename files\n",
        "#import xlwings as xw #permite leer docuemtnos xlb me da error y no lo puedo instalar\n",
        "\n",
        "# Redondeamos las salidas a dos decimales\n",
        "%precision %.2f\n",
        "\n",
        "# from google.colab import drive\n",
        "# drive.mount('/content/drive')\n",
        "\n"
      ]
    },
    {
      "cell_type": "markdown",
      "source": [
        "Carga de *datos* Indicadores de revistas SCOPUS"
      ],
      "metadata": {
        "id": "plqsYAbC_2PF"
      }
    },
    {
      "cell_type": "code",
      "source": [
        "#métricas de revistas Scopus\n",
        "# si lo descargamos directo de la web Ç(ventaja es que con una descarga siempre está accesible y no hay que volver a descargarlo durante la sesión)\n",
        "# el archivo de SCopus de 10 años ocupa demasiados GB (60gb) y no se puede alojar en drive (no debería esar en un acceso libre en github porque es propiedad de Scopus)\n",
        "   #!wget https://elsevier.com/?a=734751 \n",
        "#es XLB, hay que convertirlo a mano XLS porque xlb requiere de librerias que no tengo instaladas en colab\n",
        "# y hacerlo accesible aquí\n",
        "#la primer pesaña son definiciones de indicadores, la segunda el el año más reciente y luego 9 mas con los anteriores. La ultima pestaña es un clasificación de categorias\n",
        "## depricated_Puedo limpiar a mano las pestañas no usadas (priemera y ultima) y dejo solo los 7 años más recientes (para que sean solo 44mb y me quepa en google drive)--> pero no sirve porque luego no lee bien porque googledrive CONVIERTE a formato propio\n",
        "\n",
        "# abro el xlb a mano y lo convierto en Excel, Aprovecho para Preparacion de las pestañas d la excel quitando espacioes en los rotulos del encabezado Estandarizar los nombres de las columnas\n",
        "# ScopusSourceID Title CitationCount ScholarlyOutput PercentCited CiteScore SNIP SJR ScopusASJCCode \n",
        "# ScopusSubSubjectArea Percentile RANK RankOutOf Publisher Type OpenAccess Quartile Top10 \n",
        "# URLScopusSourceID PrintISSN ElectISSN\n",
        "# Subo a Alfresco (que permite leerlo como un xls)\n",
        "\n",
        "# descarga de alfresco con el nombre de fichero que quiera guardarlo\n",
        "!wget --output-document=CiteScore14_20.xlsx https://gdocu.upv.es/share/proxy/alfresco-noauth/api/internal/shared/node/content/egXj6G-GT0WY_g3O-2_swA\n",
        "#si lo hago manual, que tarda varios minutos en subir cada vez) con Wget en pocos segundos está cargado en el entonrno\n",
        "\n",
        "# en general funciona mejor con archivos csv, que con excel. tendre que partir el archivo excel en csv\n",
        "\n",
        "#renbombrar el fichero local descargado para que no sea tan feote\n",
        "#os.rename(r'/content/edit?usp=sharing',r'/content/scopus.xlsx')"
      ],
      "metadata": {
        "colab": {
          "base_uri": "https://localhost:8080/"
        },
        "id": "bP0vXthaTwq6",
        "outputId": "e94cb5a1-21b5-48a4-cb69-456fd47d3681"
      },
      "execution_count": 4,
      "outputs": [
        {
          "output_type": "stream",
          "name": "stdout",
          "text": [
            "--2022-02-10 17:37:12--  https://gdocu.upv.es/share/proxy/alfresco-noauth/api/internal/shared/node/content/egXj6G-GT0WY_g3O-2_swA\n",
            "Resolving gdocu.upv.es (gdocu.upv.es)... 158.42.4.31\n",
            "Connecting to gdocu.upv.es (gdocu.upv.es)|158.42.4.31|:443... connected.\n",
            "HTTP request sent, awaiting response... 200 \n",
            "Length: 62207801 (59M) [application/vnd.openxmlformats-officedocument.spreadsheetml.sheet]\n",
            "Saving to: ‘CiteScore14_20.xlsx’\n",
            "\n",
            "CiteScore14_20.xlsx 100%[===================>]  59.33M  6.44MB/s    in 15s     \n",
            "\n",
            "2022-02-10 17:37:27 (4.07 MB/s) - ‘CiteScore14_20.xlsx’ saved [62207801/62207801]\n",
            "\n"
          ]
        }
      ]
    },
    {
      "cell_type": "code",
      "source": [
        "# unos 150seg en cargar el dataframe)\n",
        "# me sirve para comprobar el tamaño de filas en cada conjunto de años con los que tengo en el CVS (o puedo directamente trabajar con este dataframe)\n",
        "\n",
        "dfs = pd.read_excel('/content/CiteScore14_20.xlsx',engine='openpyxl',sheet_name=None)\n",
        "dfs"
      ],
      "metadata": {
        "id": "2NuOtIxs4uiS"
      },
      "execution_count": null,
      "outputs": []
    },
    {
      "cell_type": "code",
      "source": [
        "# Otra forma de hacer exactamente lo mismo de arriba (130 segundo) (puede llegar a 180seg)\n",
        "# creo un objeto tipo DICT\n",
        "\n",
        "xl_file = pd.ExcelFile('/content/CiteScore14_20.xlsx')\n",
        "\n",
        "dfs2 = {sheet_name: xl_file.parse(sheet_name) \n",
        "          for sheet_name in xl_file.sheet_names}\n",
        "dfs2"
      ],
      "metadata": {
        "id": "zzWih-bfUSDf"
      },
      "execution_count": null,
      "outputs": []
    },
    {
      "cell_type": "code",
      "source": [
        "##pendiente automtizar la creación de un CSV a partir de las pestañas, añadiendo una columna del año (y rotulando citescore solo sin años en las columnas de datos)"
      ],
      "metadata": {
        "id": "nARiej-d-wGP"
      },
      "execution_count": 8,
      "outputs": []
    },
    {
      "cell_type": "markdown",
      "source": [
        "Preparacion de las pestañas d la excel\n",
        "Quitar espacioes en los rotulos del encabezado\n",
        "Estandarizar los nombres de las columnas\n",
        "\n",
        "ScopusSourceID\tTitle\tCitationCount\tScholarlyOutput\tPercentCited\tCiteScore\tSNIP\tSJR\tScopusASJCCode\tScopusSubSubjectArea\tPercentile\tRANK\tRankOutOf\tPublisher\tType\tOpenAccess\tQuartile\tTop10\tURLScopusSourceID\tPrintISSN\tElectISSN\n"
      ],
      "metadata": {
        "id": "6QqnvjPQZL6p"
      }
    },
    {
      "cell_type": "code",
      "source": [
        "# importar tablas de metricas revisas SCOPUS (la excel original la he convertido en un CVS por cada pestaña)\n",
        "# hay que importar los csv y ñadir a cada uno un campo con el año y luego fusionarlos en una tabla unica o trabajarlos como tablas separadas (no sé que será más eficiente)\n",
        "# El csv subido a Github no funciona (crea tags de html en el archivo y no se lee luego con pandas. Lo lee pero los nombres de los ficheros no son intuitivos)\n",
        "# !wget https://github.com/jamg-upv/Impacto-citas-articulo/blob/main/tablasinput/CiteScore2020.csv\n"
      ],
      "metadata": {
        "colab": {
          "base_uri": "https://localhost:8080/"
        },
        "id": "GfCnxFz5TvyR",
        "outputId": "f80aff86-71c8-4b13-c9cb-4d70bb06fd12"
      },
      "execution_count": null,
      "outputs": [
        {
          "output_type": "stream",
          "name": "stdout",
          "text": [
            "--2022-02-08 20:00:51--  https://github.com/jamg-upv/Impacto-citas-articulo/blob/main/tablasinput/CiteScore2020.csv\n",
            "Resolving github.com (github.com)... 140.82.112.3\n",
            "Connecting to github.com (github.com)|140.82.112.3|:443... connected.\n",
            "HTTP request sent, awaiting response... 200 OK\n",
            "Length: unspecified [text/html]\n",
            "Saving to: ‘CiteScore2020.csv’\n",
            "\n",
            "CiteScore2020.csv       [ <=>                ] 169.11K  --.-KB/s    in 0.04s   \n",
            "\n",
            "2022-02-08 20:00:51 (4.28 MB/s) - ‘CiteScore2020.csv’ saved [173167]\n",
            "\n"
          ]
        }
      ]
    },
    {
      "cell_type": "code",
      "source": [
        "#lecturas en orden inverso de 2020 hasta 2011\n",
        "!wget --output-document=CS2020.cvs  https://gdocu.upv.es/share/proxy/alfresco-noauth/api/internal/shared/node/content/bCd_63LrSVSkf96qwXihVQ  #2020\n",
        "!wget --output-document=CS2019.cvs  https://gdocu.upv.es/share/proxy/alfresco-noauth/api/internal/shared/node/content/5XemCCZCS-WNmJ-byA6uzA #2019\n",
        "!wget --output-document=CS2018.cvs  https://gdocu.upv.es/share/proxy/alfresco-noauth/api/internal/shared/node/content/H3ZrGBF1TNuBDCI95AVHkA #2018\n",
        "!wget --output-document=CS2017.cvs  https://gdocu.upv.es/share/proxy/alfresco-noauth/api/internal/shared/node/content/kTZ3Mlj8Qr6DC08kauJ2og #2017\n",
        "!wget --output-document=CS2016.cvs  https://gdocu.upv.es/share/proxy/alfresco-noauth/api/internal/shared/node/content/N3l6wTevTLeD6fgI42Hlvw #2016\n",
        "!wget --output-document=CS2015.cvs  https://gdocu.upv.es/share/proxy/alfresco-noauth/api/internal/shared/node/content/oYOpp1OcTIKXBzXfsDuf2g  #2015\n",
        "!wget --output-document=CS2014.cvs  https://gdocu.upv.es/share/proxy/alfresco-noauth/api/internal/shared/node/content/FMHpXVs4SXygTdZGYVp1kA #2014\n",
        "!wget --output-document=CS2013.cvs  https://gdocu.upv.es/share/proxy/alfresco-noauth/api/internal/shared/node/content/XOSnXVhMSFG3lC3hg8bHmg #2013\n",
        "!wget --output-document=CS2012.cvs  https://gdocu.upv.es/share/proxy/alfresco-noauth/api/internal/shared/node/content/IE_0VEppTFOxR2MEwMy9Nw #2012\n",
        "!wget --output-document=CS2011.cvs  https://gdocu.upv.es/share/proxy/alfresco-noauth/api/internal/shared/node/content/Q_O9A4pMTmaXZmxdEaMmSw #2011"
      ],
      "metadata": {
        "id": "4Nqxfu7XfE1p"
      },
      "execution_count": null,
      "outputs": []
    },
    {
      "cell_type": "code",
      "source": [
        "CS2020= pd.read_csv('CS2020.cvs',sep=';')\n",
        "CS2019= pd.read_csv('CS2019.cvs',sep=';')\n",
        "CS2018= pd.read_csv('CS2018.cvs',sep=';')\n",
        "CS2017= pd.read_csv('CS2017.cvs',sep=';')\n",
        "CS2016= pd.read_csv('CS2016.cvs',sep=';')\n",
        "CS2015= pd.read_csv('CS2015.cvs',sep=';')\n",
        "CS2014= pd.read_csv('CS2014.cvs',sep=';')\n",
        "CS2013= pd.read_csv('CS2013.cvs',sep=';')\n",
        "CS2012= pd.read_csv('CS2012.cvs',sep=';')\n",
        "CS2011= pd.read_csv('CS2011.cvs',sep=';')\n",
        "#puedo empaquetar los diferentes dataframes juntos para hacer referencia a ellos con un índice\n",
        "ListOfYearCS=[CS2020,CS2019,CS2018,CS2017,CS2016,CS2015,CS2014,CS2013,CS2012,CS2011]"
      ],
      "metadata": {
        "id": "8EC4tzanhNcu"
      },
      "execution_count": 3,
      "outputs": []
    },
    {
      "cell_type": "code",
      "source": [
        "CS2020"
      ],
      "metadata": {
        "colab": {
          "base_uri": "https://localhost:8080/"
        },
        "id": "TA4y96NyfRgc",
        "outputId": "537288e8-adb2-4bb3-c318-32d7bec04f6d"
      },
      "execution_count": null,
      "outputs": [
        {
          "output_type": "execute_result",
          "data": {
            "text/html": [
              "\n",
              "  <div id=\"df-06b5cb96-4198-4ea5-98ee-a4f7a228294c\">\n",
              "    <div class=\"colab-df-container\">\n",
              "      <div>\n",
              "<style scoped>\n",
              "    .dataframe tbody tr th:only-of-type {\n",
              "        vertical-align: middle;\n",
              "    }\n",
              "\n",
              "    .dataframe tbody tr th {\n",
              "        vertical-align: top;\n",
              "    }\n",
              "\n",
              "    .dataframe thead th {\n",
              "        text-align: right;\n",
              "    }\n",
              "</style>\n",
              "<table border=\"1\" class=\"dataframe\">\n",
              "  <thead>\n",
              "    <tr style=\"text-align: right;\">\n",
              "      <th></th>\n",
              "      <th>ScopusSourceID</th>\n",
              "      <th>Title</th>\n",
              "      <th>CitationCount</th>\n",
              "      <th>ScholarlyOutput</th>\n",
              "      <th>PercentCited</th>\n",
              "      <th>CiteScore</th>\n",
              "      <th>SNIP</th>\n",
              "      <th>SJR</th>\n",
              "      <th>ScopusASJCCode</th>\n",
              "      <th>ScopusSubSubjectArea</th>\n",
              "      <th>Percentile</th>\n",
              "      <th>RANK</th>\n",
              "      <th>RankOutOf</th>\n",
              "      <th>Publisher</th>\n",
              "      <th>Type</th>\n",
              "      <th>OpenAccess</th>\n",
              "      <th>Quartile</th>\n",
              "      <th>Top10</th>\n",
              "      <th>URLScopusSourceID</th>\n",
              "      <th>PrintISSN</th>\n",
              "      <th>ElectISSN</th>\n",
              "    </tr>\n",
              "  </thead>\n",
              "  <tbody>\n",
              "    <tr>\n",
              "      <th>0</th>\n",
              "      <td>21101021140</td>\n",
              "      <td>1700-tal: Nordic Journal for Eighteenth-Centur...</td>\n",
              "      <td>0</td>\n",
              "      <td>5</td>\n",
              "      <td>0</td>\n",
              "      <td>0</td>\n",
              "      <td>0</td>\n",
              "      <td>0</td>\n",
              "      <td>1213</td>\n",
              "      <td>Visual Arts and Performing Arts</td>\n",
              "      <td>6</td>\n",
              "      <td>466</td>\n",
              "      <td>532</td>\n",
              "      <td>Swedish Society for Eighteenth-Century Studies</td>\n",
              "      <td>j</td>\n",
              "      <td>YES</td>\n",
              "      <td>4</td>\n",
              "      <td>FALSO</td>\n",
              "      <td>https://www.scopus.com/sourceid/21101021140</td>\n",
              "      <td>NaN</td>\n",
              "      <td>NaN</td>\n",
              "    </tr>\n",
              "    <tr>\n",
              "      <th>1</th>\n",
              "      <td>21101021140</td>\n",
              "      <td>1700-tal: Nordic Journal for Eighteenth-Centur...</td>\n",
              "      <td>0</td>\n",
              "      <td>5</td>\n",
              "      <td>0</td>\n",
              "      <td>0</td>\n",
              "      <td>0</td>\n",
              "      <td>0</td>\n",
              "      <td>1202</td>\n",
              "      <td>History</td>\n",
              "      <td>3</td>\n",
              "      <td>1235</td>\n",
              "      <td>1328</td>\n",
              "      <td>Swedish Society for Eighteenth-Century Studies</td>\n",
              "      <td>j</td>\n",
              "      <td>YES</td>\n",
              "      <td>4</td>\n",
              "      <td>FALSO</td>\n",
              "      <td>https://www.scopus.com/sourceid/21101021140</td>\n",
              "      <td>NaN</td>\n",
              "      <td>NaN</td>\n",
              "    </tr>\n",
              "    <tr>\n",
              "      <th>2</th>\n",
              "      <td>21101021140</td>\n",
              "      <td>1700-tal: Nordic Journal for Eighteenth-Centur...</td>\n",
              "      <td>0</td>\n",
              "      <td>5</td>\n",
              "      <td>0</td>\n",
              "      <td>0</td>\n",
              "      <td>0</td>\n",
              "      <td>0</td>\n",
              "      <td>3316</td>\n",
              "      <td>Cultural Studies</td>\n",
              "      <td>2</td>\n",
              "      <td>986</td>\n",
              "      <td>1037</td>\n",
              "      <td>Swedish Society for Eighteenth-Century Studies</td>\n",
              "      <td>j</td>\n",
              "      <td>YES</td>\n",
              "      <td>4</td>\n",
              "      <td>FALSO</td>\n",
              "      <td>https://www.scopus.com/sourceid/21101021140</td>\n",
              "      <td>NaN</td>\n",
              "      <td>NaN</td>\n",
              "    </tr>\n",
              "    <tr>\n",
              "      <th>3</th>\n",
              "      <td>21100404576</td>\n",
              "      <td>2D Materials</td>\n",
              "      <td>12778</td>\n",
              "      <td>920</td>\n",
              "      <td>90</td>\n",
              "      <td>13,9</td>\n",
              "      <td>1,402</td>\n",
              "      <td>2,702</td>\n",
              "      <td>2210</td>\n",
              "      <td>Mechanical Engineering</td>\n",
              "      <td>97</td>\n",
              "      <td>14</td>\n",
              "      <td>596</td>\n",
              "      <td>Institute of Physics Publishing</td>\n",
              "      <td>j</td>\n",
              "      <td>NO</td>\n",
              "      <td>1</td>\n",
              "      <td>VERDADERO</td>\n",
              "      <td>https://www.scopus.com/sourceid/21100404576</td>\n",
              "      <td>NaN</td>\n",
              "      <td>20531583</td>\n",
              "    </tr>\n",
              "    <tr>\n",
              "      <th>4</th>\n",
              "      <td>21100404576</td>\n",
              "      <td>2D Materials</td>\n",
              "      <td>12778</td>\n",
              "      <td>920</td>\n",
              "      <td>90</td>\n",
              "      <td>13,9</td>\n",
              "      <td>1,402</td>\n",
              "      <td>2,702</td>\n",
              "      <td>2211</td>\n",
              "      <td>Mechanics of Materials</td>\n",
              "      <td>97</td>\n",
              "      <td>11</td>\n",
              "      <td>377</td>\n",
              "      <td>Institute of Physics Publishing</td>\n",
              "      <td>j</td>\n",
              "      <td>NO</td>\n",
              "      <td>1</td>\n",
              "      <td>VERDADERO</td>\n",
              "      <td>https://www.scopus.com/sourceid/21100404576</td>\n",
              "      <td>NaN</td>\n",
              "      <td>20531583</td>\n",
              "    </tr>\n",
              "    <tr>\n",
              "      <th>...</th>\n",
              "      <td>...</td>\n",
              "      <td>...</td>\n",
              "      <td>...</td>\n",
              "      <td>...</td>\n",
              "      <td>...</td>\n",
              "      <td>...</td>\n",
              "      <td>...</td>\n",
              "      <td>...</td>\n",
              "      <td>...</td>\n",
              "      <td>...</td>\n",
              "      <td>...</td>\n",
              "      <td>...</td>\n",
              "      <td>...</td>\n",
              "      <td>...</td>\n",
              "      <td>...</td>\n",
              "      <td>...</td>\n",
              "      <td>...</td>\n",
              "      <td>...</td>\n",
              "      <td>...</td>\n",
              "      <td>...</td>\n",
              "      <td>...</td>\n",
              "    </tr>\n",
              "    <tr>\n",
              "      <th>59339</th>\n",
              "      <td>28883</td>\n",
              "      <td>Zygon</td>\n",
              "      <td>301</td>\n",
              "      <td>237</td>\n",
              "      <td>56</td>\n",
              "      <td>1,3</td>\n",
              "      <td>0,853</td>\n",
              "      <td>0,222</td>\n",
              "      <td>3304</td>\n",
              "      <td>Education</td>\n",
              "      <td>46</td>\n",
              "      <td>707</td>\n",
              "      <td>1319</td>\n",
              "      <td>Wiley-Blackwell</td>\n",
              "      <td>j</td>\n",
              "      <td>NO</td>\n",
              "      <td>3</td>\n",
              "      <td>FALSO</td>\n",
              "      <td>https://www.scopus.com/sourceid/28883</td>\n",
              "      <td>5912385</td>\n",
              "      <td>14679744</td>\n",
              "    </tr>\n",
              "    <tr>\n",
              "      <th>59340</th>\n",
              "      <td>19073</td>\n",
              "      <td>Zygote</td>\n",
              "      <td>588</td>\n",
              "      <td>206</td>\n",
              "      <td>69</td>\n",
              "      <td>2,9</td>\n",
              "      <td>0,559</td>\n",
              "      <td>0,416</td>\n",
              "      <td>1309</td>\n",
              "      <td>Developmental Biology</td>\n",
              "      <td>25</td>\n",
              "      <td>61</td>\n",
              "      <td>81</td>\n",
              "      <td>Cambridge University Press</td>\n",
              "      <td>j</td>\n",
              "      <td>NO</td>\n",
              "      <td>3</td>\n",
              "      <td>FALSO</td>\n",
              "      <td>https://www.scopus.com/sourceid/19073</td>\n",
              "      <td>9671994</td>\n",
              "      <td>14698730</td>\n",
              "    </tr>\n",
              "    <tr>\n",
              "      <th>59341</th>\n",
              "      <td>19073</td>\n",
              "      <td>Zygote</td>\n",
              "      <td>588</td>\n",
              "      <td>206</td>\n",
              "      <td>69</td>\n",
              "      <td>2,9</td>\n",
              "      <td>0,559</td>\n",
              "      <td>0,416</td>\n",
              "      <td>1307</td>\n",
              "      <td>Cell Biology</td>\n",
              "      <td>22</td>\n",
              "      <td>218</td>\n",
              "      <td>279</td>\n",
              "      <td>Cambridge University Press</td>\n",
              "      <td>j</td>\n",
              "      <td>NO</td>\n",
              "      <td>4</td>\n",
              "      <td>FALSO</td>\n",
              "      <td>https://www.scopus.com/sourceid/19073</td>\n",
              "      <td>9671994</td>\n",
              "      <td>14698730</td>\n",
              "    </tr>\n",
              "    <tr>\n",
              "      <th>59342</th>\n",
              "      <td>19700173167</td>\n",
              "      <td>Zywnosc. Nauka. Technologia. Jakosc/Food. Scie...</td>\n",
              "      <td>111</td>\n",
              "      <td>191</td>\n",
              "      <td>32</td>\n",
              "      <td>0,6</td>\n",
              "      <td>0,279</td>\n",
              "      <td>0,149</td>\n",
              "      <td>2209</td>\n",
              "      <td>Industrial and Manufacturing Engineering</td>\n",
              "      <td>23</td>\n",
              "      <td>259</td>\n",
              "      <td>336</td>\n",
              "      <td>Polish Society of Food Technologists</td>\n",
              "      <td>j</td>\n",
              "      <td>NO</td>\n",
              "      <td>4</td>\n",
              "      <td>FALSO</td>\n",
              "      <td>https://www.scopus.com/sourceid/19700173167</td>\n",
              "      <td>14256959</td>\n",
              "      <td>NaN</td>\n",
              "    </tr>\n",
              "    <tr>\n",
              "      <th>59343</th>\n",
              "      <td>19700173167</td>\n",
              "      <td>Zywnosc. Nauka. Technologia. Jakosc/Food. Scie...</td>\n",
              "      <td>111</td>\n",
              "      <td>191</td>\n",
              "      <td>32</td>\n",
              "      <td>0,6</td>\n",
              "      <td>0,279</td>\n",
              "      <td>0,149</td>\n",
              "      <td>1106</td>\n",
              "      <td>Food Science</td>\n",
              "      <td>19</td>\n",
              "      <td>249</td>\n",
              "      <td>310</td>\n",
              "      <td>Polish Society of Food Technologists</td>\n",
              "      <td>j</td>\n",
              "      <td>NO</td>\n",
              "      <td>4</td>\n",
              "      <td>FALSO</td>\n",
              "      <td>https://www.scopus.com/sourceid/19700173167</td>\n",
              "      <td>14256959</td>\n",
              "      <td>NaN</td>\n",
              "    </tr>\n",
              "  </tbody>\n",
              "</table>\n",
              "<p>59344 rows × 21 columns</p>\n",
              "</div>\n",
              "      <button class=\"colab-df-convert\" onclick=\"convertToInteractive('df-06b5cb96-4198-4ea5-98ee-a4f7a228294c')\"\n",
              "              title=\"Convert this dataframe to an interactive table.\"\n",
              "              style=\"display:none;\">\n",
              "        \n",
              "  <svg xmlns=\"http://www.w3.org/2000/svg\" height=\"24px\"viewBox=\"0 0 24 24\"\n",
              "       width=\"24px\">\n",
              "    <path d=\"M0 0h24v24H0V0z\" fill=\"none\"/>\n",
              "    <path d=\"M18.56 5.44l.94 2.06.94-2.06 2.06-.94-2.06-.94-.94-2.06-.94 2.06-2.06.94zm-11 1L8.5 8.5l.94-2.06 2.06-.94-2.06-.94L8.5 2.5l-.94 2.06-2.06.94zm10 10l.94 2.06.94-2.06 2.06-.94-2.06-.94-.94-2.06-.94 2.06-2.06.94z\"/><path d=\"M17.41 7.96l-1.37-1.37c-.4-.4-.92-.59-1.43-.59-.52 0-1.04.2-1.43.59L10.3 9.45l-7.72 7.72c-.78.78-.78 2.05 0 2.83L4 21.41c.39.39.9.59 1.41.59.51 0 1.02-.2 1.41-.59l7.78-7.78 2.81-2.81c.8-.78.8-2.07 0-2.86zM5.41 20L4 18.59l7.72-7.72 1.47 1.35L5.41 20z\"/>\n",
              "  </svg>\n",
              "      </button>\n",
              "      \n",
              "  <style>\n",
              "    .colab-df-container {\n",
              "      display:flex;\n",
              "      flex-wrap:wrap;\n",
              "      gap: 12px;\n",
              "    }\n",
              "\n",
              "    .colab-df-convert {\n",
              "      background-color: #E8F0FE;\n",
              "      border: none;\n",
              "      border-radius: 50%;\n",
              "      cursor: pointer;\n",
              "      display: none;\n",
              "      fill: #1967D2;\n",
              "      height: 32px;\n",
              "      padding: 0 0 0 0;\n",
              "      width: 32px;\n",
              "    }\n",
              "\n",
              "    .colab-df-convert:hover {\n",
              "      background-color: #E2EBFA;\n",
              "      box-shadow: 0px 1px 2px rgba(60, 64, 67, 0.3), 0px 1px 3px 1px rgba(60, 64, 67, 0.15);\n",
              "      fill: #174EA6;\n",
              "    }\n",
              "\n",
              "    [theme=dark] .colab-df-convert {\n",
              "      background-color: #3B4455;\n",
              "      fill: #D2E3FC;\n",
              "    }\n",
              "\n",
              "    [theme=dark] .colab-df-convert:hover {\n",
              "      background-color: #434B5C;\n",
              "      box-shadow: 0px 1px 3px 1px rgba(0, 0, 0, 0.15);\n",
              "      filter: drop-shadow(0px 1px 2px rgba(0, 0, 0, 0.3));\n",
              "      fill: #FFFFFF;\n",
              "    }\n",
              "  </style>\n",
              "\n",
              "      <script>\n",
              "        const buttonEl =\n",
              "          document.querySelector('#df-06b5cb96-4198-4ea5-98ee-a4f7a228294c button.colab-df-convert');\n",
              "        buttonEl.style.display =\n",
              "          google.colab.kernel.accessAllowed ? 'block' : 'none';\n",
              "\n",
              "        async function convertToInteractive(key) {\n",
              "          const element = document.querySelector('#df-06b5cb96-4198-4ea5-98ee-a4f7a228294c');\n",
              "          const dataTable =\n",
              "            await google.colab.kernel.invokeFunction('convertToInteractive',\n",
              "                                                     [key], {});\n",
              "          if (!dataTable) return;\n",
              "\n",
              "          const docLinkHtml = 'Like what you see? Visit the ' +\n",
              "            '<a target=\"_blank\" href=https://colab.research.google.com/notebooks/data_table.ipynb>data table notebook</a>'\n",
              "            + ' to learn more about interactive tables.';\n",
              "          element.innerHTML = '';\n",
              "          dataTable['output_type'] = 'display_data';\n",
              "          await google.colab.output.renderOutput(dataTable, element);\n",
              "          const docLink = document.createElement('div');\n",
              "          docLink.innerHTML = docLinkHtml;\n",
              "          element.appendChild(docLink);\n",
              "        }\n",
              "      </script>\n",
              "    </div>\n",
              "  </div>\n",
              "  "
            ],
            "text/plain": [
              "       ScopusSourceID  ... ElectISSN\n",
              "0         21101021140  ...       NaN\n",
              "1         21101021140  ...       NaN\n",
              "2         21101021140  ...       NaN\n",
              "3         21100404576  ...  20531583\n",
              "4         21100404576  ...  20531583\n",
              "...               ...  ...       ...\n",
              "59339           28883  ...  14679744\n",
              "59340           19073  ...  14698730\n",
              "59341           19073  ...  14698730\n",
              "59342     19700173167  ...       NaN\n",
              "59343     19700173167  ...       NaN\n",
              "\n",
              "[59344 rows x 21 columns]"
            ]
          },
          "metadata": {},
          "execution_count": 9
        }
      ]
    },
    {
      "cell_type": "code",
      "source": [
        "CS2019"
      ],
      "metadata": {
        "id": "x_i90Kq_ixgG"
      },
      "execution_count": null,
      "outputs": []
    },
    {
      "cell_type": "code",
      "source": [
        "CS2018"
      ],
      "metadata": {
        "id": "QeFAwYnKixYM"
      },
      "execution_count": null,
      "outputs": []
    },
    {
      "cell_type": "code",
      "source": [
        "CS2017"
      ],
      "metadata": {
        "id": "HWN8zpaBixOd"
      },
      "execution_count": null,
      "outputs": []
    },
    {
      "cell_type": "code",
      "source": [
        "CS2016"
      ],
      "metadata": {
        "id": "cNkkT777ixEQ"
      },
      "execution_count": null,
      "outputs": []
    },
    {
      "cell_type": "code",
      "source": [
        "CS2015"
      ],
      "metadata": {
        "id": "_0bOP5d1iw7r"
      },
      "execution_count": null,
      "outputs": []
    },
    {
      "cell_type": "code",
      "source": [
        "CS2014"
      ],
      "metadata": {
        "id": "UbGnFcWNiwzA"
      },
      "execution_count": null,
      "outputs": []
    },
    {
      "cell_type": "code",
      "source": [
        "CS2013"
      ],
      "metadata": {
        "id": "lzVqK8JkiwqR"
      },
      "execution_count": null,
      "outputs": []
    },
    {
      "cell_type": "code",
      "source": [
        "CS2012"
      ],
      "metadata": {
        "id": "XF0oaZniiwfq"
      },
      "execution_count": null,
      "outputs": []
    },
    {
      "cell_type": "code",
      "source": [
        "CS2011"
      ],
      "metadata": {
        "id": "IeH9_wIliwJX"
      },
      "execution_count": null,
      "outputs": []
    },
    {
      "cell_type": "markdown",
      "source": [
        "Para cada año dejar solo la fila donde una revista tenga el mejor CS (igual no es la fila con el mejor percentil de SJR pero como no tengo percentilizado el SJR no me afecta (puedo \"percentilizarlo\" con las revistas incluidas en las solicitudes de años anteriores"
      ],
      "metadata": {
        "id": "OezSjD1L3AOl"
      }
    },
    {
      "cell_type": "code",
      "source": [
        "#para cada año \n",
        "df=ListOfYearCS[1]\n",
        "# Tabla con todos los ISSN Repetidos en un año (o ScopusSourceID sería más robusto o más rápido porque no tengo que ver en qué columna mirar) contar>1\n",
        "#crear una columna para el count\n",
        "#dos formas de hacer lo mismo\n",
        "#as index false es vital para que no cree una serie sino un dataframe donde pueda apuntar a las variables https://realpython.com/pandas-groupby/\n",
        "ContarSourceId=df.groupby(['ScopusSourceID'], as_index=False).size()\n",
        "ContarSourceId\n",
        "\n",
        "ContarSourceId2 = df.groupby(\"ScopusSourceID\", as_index=False).size()\n",
        "ContarSourceId2\n",
        "\n",
        "plt.hist(ContarSourceId2 [\"size\"], bins=[1,2,3,4,5,6])\n",
        "# plt.hist(ContarSourceId2 [\"size\"], bins=6)"
      ],
      "metadata": {
        "colab": {
          "base_uri": "https://localhost:8080/",
          "height": 317
        },
        "id": "wxW1ogpsuBoV",
        "outputId": "9acd8875-df4c-42b1-8a84-910894650822"
      },
      "execution_count": 32,
      "outputs": [
        {
          "output_type": "execute_result",
          "data": {
            "text/plain": [
              "(array([8424., 8138., 4931., 2327., 1301.]),\n",
              " array([1, 2, 3, 4, 5, 6]),\n",
              " <a list of 5 Patch objects>)"
            ]
          },
          "metadata": {},
          "execution_count": 32
        },
        {
          "output_type": "display_data",
          "data": {
            "image/png": "[encoded data removed]",
            "text/plain": [
              "<Figure size 432x288 with 1 Axes>"
            ]
          },
          "metadata": {
            "needs_background": "light"
          }
        }
      ]
    },
    {
      "cell_type": "code",
      "source": [
        "# # Para convertir el indice de una tabla en una columna de un df\n",
        "# s.index.name = 'Date'\n",
        "# s.reset_index()\n",
        "\n",
        "# # Pero no lo necesito porque uso \"as index false\" para que no cree una serie sino un dataframe donde pueda apuntar a las variables https://realpython.com/pandas-groupby/\n",
        "# total=filtered_dates.groupby(['provincia_iso'], as_index=False).agg(sum)\n"
      ],
      "metadata": {
        "id": "niuBHn0IyxRA"
      },
      "execution_count": null,
      "outputs": []
    },
    {
      "cell_type": "code",
      "source": [
        "# en lugar de mostrar solo las filas cuyo count sea mayor que 1 y  buscar las filas con el ScopusSourceID\t >1  y borrar las filas de menos Percentile\n",
        "# aprovecho la función keep=\"last\" para  eliminar todas las filas con un valor repetido, menos la ultima\n",
        "# Establecemos keep=False para eliminar todas las filas que tengan el mismo valor de cualquier columna.\n",
        "\n",
        "#primero tengo que ordenar por ScopusSourceID  y por \n",
        "df_without_duplicates = df_with_duplicates.drop_duplicates(\n",
        "    subset=['Name'], keep=\"last\")\n",
        "\n"
      ],
      "metadata": {
        "id": "u4ma3b_b52xv"
      },
      "execution_count": null,
      "outputs": []
    },
    {
      "cell_type": "code",
      "source": [
        "# compruebo que ahora no hay ScopusSourceID repetidos"
      ],
      "metadata": {
        "id": "nSM88w4j80EA"
      },
      "execution_count": null,
      "outputs": []
    },
    {
      "cell_type": "markdown",
      "source": [
        "set() para eliminar los duplicados en una lista en Python\n",
        "\n",
        "Queremos contar el número de códigos que utiliza un país. A continuación se enumeran las diferentes formas de contar los valores únicos.\n",
        "\n",
        "df.groupby().nunique() Método\n",
        "\n",
        "df.groupby().agg() Método\n",
        "\n",
        "df.groupby().unique() Método\n",
        "\n",
        "\n",
        "df = pd.DataFrame(data, columns=[\"code\",\"Countries\"])\n",
        "result = df.groupby('Countries')['code'].nunique()\n",
        "print(result)\n",
        "\n",
        "Este método es útil cuando se quiere ver qué país está usando qué códigos.\n",
        "result = df.groupby('Countries')[\"code\"].unique()\n",
        "print(result)\n",
        "\n",
        "\n",
        "my_list.remove(2) # [5, 'DevCode', 1.2, 5]\n",
        "En este ejemplo estamos removiendo el elemento 2, de la lista que tiene por nombre \"my_list\".\n",
        "\n",
        "Aquí, pasamos Name como argumento subset al método drop_duplicates(). Las filas cuarta y quinta son eliminadas ya que tienen el mismo valor de la columna Name que la primera columna.\n",
        "df_with_duplicates = pd.DataFrame({\n",
        "    'Id': [302, 504, 708, 103, 303, 302],\n",
        "    'Name': ['Watch', 'Camera', 'Phone', 'Shoes', 'Watch', 'Watch'],\n",
        "    'Cost': [\"300\", \"400\", \"350\", \"100\", \"300\", \"300\"]\n",
        "})\n",
        "\n",
        "df_without_duplicates = df_with_duplicates.drop_duplicates(subset=['Name'])\n",
        "print(\"DataFrame with duplicates:\")\n",
        "print(df_with_duplicates, \"\\n\")\n",
        "print(\"DataFrame without duplicates:\")\n",
        "print(df_without_duplicates, \"\\n\")\n",
        "\n",
        "Elimina todas las filas excepto la última que tiene el mismo valor de la columna Name.\n",
        "\n",
        "Establecemos keep=False para eliminar todas las filas que tengan el mismo valor de cualquier columna.\n",
        "df_without_duplicates = df_with_duplicates.drop_duplicates(\n",
        "    subset=['Name'], keep=\"last\")\n",
        "\n",
        "print(\"DataFrame with duplicates:\")\n",
        "print(df_with_duplicates, \"\\n\")\n",
        "print(\"DataFrame without duplicates:\")\n",
        "print(df_without_duplicates, \"\\n\")\n",
        "df_without_duplicates = df_with_duplicates.drop_duplicates(\n",
        "    subset=['Name'], keep=False)\n"
      ],
      "metadata": {
        "id": "CW7KgE6kOQiN"
      }
    },
    {
      "cell_type": "code",
      "source": [
        "\n",
        "start_date = '2020-09-01'\n",
        "end_date = '2021-03-24'\n",
        "after_start_date = data['fecha'] >= start_date\n",
        "before_end_date = data['fecha'] <= end_date\n",
        "between_two_dates = after_start_date & before_end_date\n",
        "filtered_dates = data.loc[between_two_dates]\n",
        "# .loc \n",
        "filtered_dates\n",
        "\n",
        "# and OR\n",
        "data2 = data[(data['provincia_iso'] =='V') | (data['provincia_iso'] =='A')| (data['provincia_iso'] =='CS')]\n",
        "data2 = data2[(data['sexo'] =='H') | (data['sexo'] =='M')]\n",
        "data2"
      ],
      "metadata": {
        "id": "lKCOCYW_yvSj"
      },
      "execution_count": null,
      "outputs": []
    },
    {
      "cell_type": "code",
      "source": [
        "df.groupby(['A','B']).B.agg('count').to_frame('c').reset_index()\n"
      ],
      "metadata": {
        "id": "P9N8dOP2RjV2"
      },
      "execution_count": null,
      "outputs": []
    },
    {
      "cell_type": "code",
      "source": [
        "#  ENLAZAR tabla de meritos con metrica de revista por ISSN (ojo que hay que mirar en dos columnas, si no está en PrintISSN\t busco en ElectISSN"
      ],
      "metadata": {
        "id": "Z7py1vggNMSU"
      },
      "execution_count": null,
      "outputs": []
    }
  ]
}